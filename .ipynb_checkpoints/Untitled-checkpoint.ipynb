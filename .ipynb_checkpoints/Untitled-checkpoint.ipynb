{
 "cells": [
  {
   "cell_type": "code",
   "execution_count": null,
   "metadata": {},
   "outputs": [],
   "source": [
    "# load new language features\n",
    "from __future__ import print_function\n",
    "\n",
    "# math functions\n",
    "import math\n",
    "\n",
    "# interactive python display\n",
    "from IPython import display\n",
    "\n",
    "# color map\n",
    "from matplotlib import cm\n",
    "# grid customization\n",
    "from matplotlib import gridspec\n",
    "# plotting\n",
    "from matplotlib import pyplot as plt\n",
    "\n",
    "# matrix operations etc from numpy\n",
    "import numpy as np\n",
    "\n",
    "# data handling, frames, etc from pandas\n",
    "import pandas as pd\n",
    "\n",
    "# machine learning framework for python\n",
    "from sklearn import metrics\n",
    "\n",
    "# machine learning framework from google\n",
    "import tensorflow as tf\n",
    "from tensorflow.python.data import Dataset\n",
    "\n",
    "tf.logging.set_verbosity(tf.logging.ERROR)\n",
    "pd.options.display.max_rows = 10\n",
    "pd.options.display.float_format = '{:.1f}'.format\n",
    "\n",
    "california_housing_dataframe = pd.read_csv(\"https://download.mlcc.google.com/mledu-datasets/california_housing_train.csv\", sep=\",\")\n",
    "\n",
    "# california_housing_dataframe = california_housing_dataframe.reindex(\n",
    "#     np.random.permutation(california_housing_dataframe.index))"
   ]
  }
 ],
 "metadata": {
  "kernelspec": {
   "display_name": "Python 3",
   "language": "python",
   "name": "python3"
  },
  "language_info": {
   "codemirror_mode": {
    "name": "ipython",
    "version": 3
   },
   "file_extension": ".py",
   "mimetype": "text/x-python",
   "name": "python",
   "nbconvert_exporter": "python",
   "pygments_lexer": "ipython3",
   "version": "3.7.1"
  }
 },
 "nbformat": 4,
 "nbformat_minor": 2
}
